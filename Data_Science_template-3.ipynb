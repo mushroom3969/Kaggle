{
  "metadata": {
    "kernelspec": {
      "language": "python",
      "display_name": "Python 3",
      "name": "python3"
    },
    "language_info": {
      "name": "python",
      "version": "3.10.13",
      "mimetype": "text/x-python",
      "codemirror_mode": {
        "name": "ipython",
        "version": 3
      },
      "pygments_lexer": "ipython3",
      "nbconvert_exporter": "python",
      "file_extension": ".py"
    },
    "kaggle": {
      "accelerator": "none",
      "dataSources": [
        {
          "sourceId": 3136,
          "databundleVersionId": 26502,
          "sourceType": "competition"
        }
      ],
      "dockerImageVersionId": 30698,
      "isInternetEnabled": true,
      "language": "python",
      "sourceType": "notebook",
      "isGpuEnabled": false
    },
    "colab": {
      "provenance": []
    }
  },
  "nbformat_minor": 0,
  "nbformat": 4,
  "cells": [
    {
      "cell_type": "markdown",
      "source": [
        "# Table Content"
      ],
      "metadata": {
        "id": "dDsXrIPZnK38"
      }
    },
    {
      "cell_type": "markdown",
      "source": [
        "# Define the Problem"
      ],
      "metadata": {
        "id": "UlPIAf9GnK3-"
      }
    },
    {
      "cell_type": "markdown",
      "source": [
        "----"
      ],
      "metadata": {
        "id": "inffsbornK3-"
      }
    },
    {
      "cell_type": "markdown",
      "source": [
        "# Gather the Data"
      ],
      "metadata": {
        "id": "TN04cvJEnK3-"
      }
    },
    {
      "cell_type": "markdown",
      "source": [
        "-----"
      ],
      "metadata": {
        "id": "Dw0Gcn_JnK3_"
      }
    },
    {
      "cell_type": "markdown",
      "source": [
        "# Prepare Data"
      ],
      "metadata": {
        "id": "vV-cTWNNnK3_"
      }
    },
    {
      "cell_type": "code",
      "source": [
        "!pip install chardet\n",
        "!pip install plotly"
      ],
      "metadata": {
        "id": "Bu8HF4G2nK3_"
      },
      "execution_count": null,
      "outputs": []
    },
    {
      "cell_type": "markdown",
      "source": [
        "## Import Libraries"
      ],
      "metadata": {
        "id": "c7TnwUPTnK3_"
      }
    },
    {
      "cell_type": "code",
      "source": [
        "import warnings\n",
        "\n",
        "from pathlib import Path\n",
        "import os\n",
        "import chardet\n",
        "import requests\n",
        "\n",
        "import pandas as pd\n",
        "import numpy as np\n",
        "\n"
      ],
      "metadata": {
        "id": "kyri-tj2nK4A"
      },
      "execution_count": null,
      "outputs": []
    },
    {
      "cell_type": "markdown",
      "source": [
        "### Visulize"
      ],
      "metadata": {
        "id": "1YmkekpNnK4A"
      }
    },
    {
      "cell_type": "code",
      "source": [
        "import matplotlib.pyplot as plt\n",
        "\n",
        "\n",
        "# Seaborn\n",
        "import seaborn as sns\n",
        "\n",
        "\n",
        "# Plotly\n",
        "import plotly.graph_objects as go\n",
        "import plotly.figure_factory as ff\n",
        "import plotly.express as px"
      ],
      "metadata": {
        "id": "XRRNjEQnnK4A"
      },
      "execution_count": null,
      "outputs": []
    },
    {
      "cell_type": "markdown",
      "source": [
        "### Model Library"
      ],
      "metadata": {
        "id": "_ZNAAbL5nK4B"
      }
    },
    {
      "cell_type": "markdown",
      "source": [
        "----"
      ],
      "metadata": {
        "id": "gpLyp6kbnK4B"
      }
    },
    {
      "cell_type": "markdown",
      "source": [
        "## Load Data"
      ],
      "metadata": {
        "id": "hJcT0czCnK4B"
      }
    },
    {
      "cell_type": "code",
      "source": [
        "class LoadingFile():\n",
        "    def __init__(self, path, name, url=None):\n",
        "        self.path = path\n",
        "        self.name = name\n",
        "        self.url = url\n",
        "\n",
        "    def size(self):\n",
        "        kib = 1024\n",
        "        size = os.path.getsize(Path(self.path))\n",
        "        print(f\"{self.name} size: {np.round(size / kib)} Kib\")\n",
        "\n",
        "    def Encoding_predict(self):\n",
        "        result = chardet.detect(self.path/self.name)\n",
        "        print(f\"File name: {self.name:<25}\\nEncoding: {result['encoding']:<10}\\nConfidence: {result['confidence']}\")\n",
        "\n",
        "    def download_data(self):\n",
        "      data_path = Path(self.path)\n",
        "      if data_path.is_dir():\n",
        "        print(f\"{data_path} directory exist.\")\n",
        "      else:\n",
        "        print(f\"Creating {data_path}\")\n",
        "        data_path.mkdir(parents=True, exist_ok=True)\n",
        "\n",
        "      if (data_path / Path(self.name)).exists():\n",
        "          print(f\"{self.name} already exist\")\n",
        "          pass\n",
        "      else:\n",
        "          with open(data_path / self.name, \"wb\") as f:\n",
        "            req = requests.get(self.url)\n",
        "            print(\"Downloading data...\")\n",
        "            f.write(req.content)\n",
        "            print(\"Done!\")\n",
        "name=[]\n",
        "path = []\n",
        "for dirname, _, filenames in os.walk('/kaggle/input'):\n",
        "    for filename in filenames:\n",
        "        name.append(filename)\n",
        "        path.append(os.path.join(dirname, filename))\n",
        "\n",
        "        print(f\"Path: {dirname} | Data_Name: {filename}\")\n",
        "        size = LoadingFile(os.path.join(dirname, filename), filename).size()\n",
        "        print()\n",
        "\n",
        "#LoadingFile(path[0], name[0]).size()\n",
        "#LoadingFile(path[1], name[1]).size()"
      ],
      "metadata": {
        "id": "vsy9-XCInK4B"
      },
      "execution_count": null,
      "outputs": []
    },
    {
      "cell_type": "markdown",
      "source": [
        "----"
      ],
      "metadata": {
        "id": "ZmPnf4oGnK4C"
      }
    },
    {
      "cell_type": "markdown",
      "source": [
        "## Processing_1"
      ],
      "metadata": {
        "id": "J894d_LSnK4C"
      }
    },
    {
      "cell_type": "markdown",
      "source": [
        "### Data Cleaning"
      ],
      "metadata": {
        "id": "cxQja8DInK4C"
      }
    },
    {
      "cell_type": "markdown",
      "source": [
        "### Feature Engineering"
      ],
      "metadata": {
        "id": "F5vZcVePnK4C"
      }
    },
    {
      "cell_type": "markdown",
      "source": [
        "### Convert Formats"
      ],
      "metadata": {
        "id": "M7gJEn7anK4C"
      }
    },
    {
      "cell_type": "markdown",
      "source": [
        "### Double Check Cleaned Data"
      ],
      "metadata": {
        "id": "TKgsk6rbnK4C"
      }
    },
    {
      "cell_type": "markdown",
      "source": [
        "-----"
      ],
      "metadata": {
        "id": "zMT7VYw4nK4D"
      }
    },
    {
      "cell_type": "markdown",
      "source": [
        "# Data Analysis"
      ],
      "metadata": {
        "id": "rCv7BmfgnK4D"
      }
    },
    {
      "cell_type": "markdown",
      "source": [
        "## Exploratory"
      ],
      "metadata": {
        "id": "f6bvFLfYnK4D"
      }
    },
    {
      "cell_type": "markdown",
      "source": [
        "## Inference"
      ],
      "metadata": {
        "id": "6CIqIcjPnK4D"
      }
    },
    {
      "cell_type": "markdown",
      "source": [
        "## Feature Selection"
      ],
      "metadata": {
        "id": "UbWDF1KcnK4E"
      }
    },
    {
      "cell_type": "markdown",
      "source": [
        "-----"
      ],
      "metadata": {
        "id": "wCvxwKyZnK4E"
      }
    },
    {
      "cell_type": "markdown",
      "source": [
        "# Split Training and Testing Data"
      ],
      "metadata": {
        "id": "EpdD4qYxnK4E"
      }
    },
    {
      "cell_type": "markdown",
      "source": [
        "-----"
      ],
      "metadata": {
        "id": "1cESlh8DnK4E"
      }
    },
    {
      "cell_type": "markdown",
      "source": [
        "# Model Data - 1"
      ],
      "metadata": {
        "id": "B2ft2RIJnK4E"
      }
    },
    {
      "cell_type": "markdown",
      "source": [
        "----"
      ],
      "metadata": {
        "id": "wPCo72mmnK4E"
      }
    },
    {
      "cell_type": "markdown",
      "source": [
        "## Model + Processing_2 -"
      ],
      "metadata": {
        "id": "vpKtInDWnK4E"
      }
    },
    {
      "cell_type": "markdown",
      "source": [
        "### Training"
      ],
      "metadata": {
        "id": "I0pWEVrSnK4E"
      }
    },
    {
      "cell_type": "markdown",
      "source": [
        "### Evaluate Model Performance"
      ],
      "metadata": {
        "id": "4VPDcDLEnK4E"
      }
    },
    {
      "cell_type": "markdown",
      "source": [
        "### Tune Model - Hyper-Parameters"
      ],
      "metadata": {
        "id": "-A08pUD1nK4E"
      }
    },
    {
      "cell_type": "markdown",
      "source": [
        "### Tune Model - Feature Selection"
      ],
      "metadata": {
        "id": "Sl71xQVMnK4F"
      }
    },
    {
      "cell_type": "markdown",
      "source": [
        "---"
      ],
      "metadata": {
        "id": "07RcdMQ-nK4F"
      }
    },
    {
      "cell_type": "markdown",
      "source": [
        "## Model + Processing_2 -"
      ],
      "metadata": {
        "id": "e6bpW8_-nK4F"
      }
    },
    {
      "cell_type": "markdown",
      "source": [
        "---"
      ],
      "metadata": {
        "id": "pi6DKqL5nK4F"
      }
    },
    {
      "cell_type": "markdown",
      "source": [
        "# Conclusion"
      ],
      "metadata": {
        "id": "BHatYHlOnK4F"
      }
    },
    {
      "cell_type": "markdown",
      "source": [
        "---"
      ],
      "metadata": {
        "id": "UdzLFO6JnK4F"
      }
    },
    {
      "cell_type": "markdown",
      "source": [
        "# Optimize and Strategize"
      ],
      "metadata": {
        "id": "vNhzbRw1nK4F"
      }
    },
    {
      "cell_type": "markdown",
      "source": [
        "-----"
      ],
      "metadata": {
        "id": "AyJcYJk4nK4F"
      }
    },
    {
      "cell_type": "markdown",
      "source": [
        "# Log"
      ],
      "metadata": {
        "id": "1R8ByCjbnK4F"
      }
    },
    {
      "cell_type": "code",
      "source": [],
      "metadata": {
        "id": "y_Tt1z4rnK4F"
      },
      "execution_count": null,
      "outputs": []
    }
  ]
}